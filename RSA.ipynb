{
 "cells": [
  {
   "cell_type": "markdown",
   "metadata": {},
   "source": [
    "# Bob and Alice want to send a message to each other. Eve is eavesdropping all their communications. Is there any way, that they send each other a secret, coded message which is practically impossible for Eve to decode, even if eve knows what method they are using to encrypt and decrypt their messages!"
   ]
  },
  {
   "cell_type": "markdown",
   "metadata": {},
   "source": [
    "## The answer is, easy! If Alice wants to receive a message from Bob, she just needs to send Bob a box, with an open lock on it. Then, Bob will fill the box with his message (i.e encrypting his message using the public key) and send the box back. Only Alice has the key! So only she can open the box."
   ]
  },
  {
   "cell_type": "markdown",
   "metadata": {},
   "source": [
    "## Alice uses a publick key (n,e), sends it to Bob. To encrypt his Message, Bob Uses a function: \"message^e mod n\" .\n",
    "## And sends the anser to Alice. Alice uses his private key \"d\" in another function: \"BobMessage^d mod n\" , to find Bob's original Message!\n",
    "\n",
    "### Examples at: \n",
    "https://www.youtube.com/watch?v=4zahvcJ9glg&t=259s\n",
    "https://www.youtube.com/watch?v=oOcTVTpUsPQ\n",
    "\n",
    "Also, I found this video so interesting:\n",
    "https://www.youtube.com/watch?v=wXB-V_Keiu8\n",
    "\n",
    "General Idea behind Assymeteric Encryption:\n",
    "https://www.youtube.com/watch?v=AQDCe585Lnc\n",
    "\n",
    "Caesar's Cipher:\n",
    "https://www.khanacademy.org/computing/computer-science/computers-and-internet-code-org/internet-works-intro/v/the-internet-encryption-and-public-keys"
   ]
  },
  {
   "cell_type": "markdown",
   "metadata": {},
   "source": [
    "# Functions We Need"
   ]
  },
  {
   "cell_type": "markdown",
   "metadata": {},
   "source": [
    "### Prime Number Related Functions"
   ]
  },
  {
   "cell_type": "code",
   "execution_count": 3,
   "metadata": {},
   "outputs": [],
   "source": [
    "# This two functions help us find our two prime numbers p and q. \n",
    "# The bigger these numbers get, the more security we will have!\n",
    "\n",
    "def is_prime(num): # Check to see if a no. is prime\n",
    "    factor = 2\n",
    "    while (factor * factor <= num):\n",
    "        if num % factor == 0:\n",
    "             return False\n",
    "        factor +=1\n",
    "    return True\n",
    "\n",
    "def nth_prime_number(n): # Gives us the n-th prime number\n",
    "    if n==1:\n",
    "        return 2\n",
    "    count = 1\n",
    "    num = 1\n",
    "    while(count < n):\n",
    "        num +=2 #optimization\n",
    "        if is_prime(num):\n",
    "            count +=1\n",
    "    return num\n",
    "# Find if two numbers have any common factor. If not, they are co-prime\n",
    "def is_coprime(p,q):\n",
    "    coprime = False\n",
    "    while q != 0:\n",
    "        p, q = q, p%q\n",
    "    if p==1: # 1 is not important, it is the common factor between all numbers\n",
    "        coprime = True\n",
    "    return coprime\n",
    "# Using Extended Euclidean algorithm to find     \n",
    "def modinv(e, phi):\n",
    "    d_old = 0; r_old = phi\n",
    "    d_new = 1; r_new = e\n",
    "    while r_new > 0:\n",
    "        a = r_old // r_new\n",
    "        (d_old, d_new) = (d_new, d_old - a * d_new)\n",
    "        (r_old, r_new) = (r_new, r_old - a * r_new)\n",
    "    return d_old % phi if r_old == 1 else None\n",
    "\n",
    "def E(phi,n):\n",
    "    for i in range(3,phi-1,2):\n",
    "        if is_coprime(i,phi) and is_coprime(i,n):\n",
    "            return i\n",
    "\n"
   ]
  },
  {
   "cell_type": "markdown",
   "metadata": {},
   "source": [
    "### Encrypting and Decrypting Functions"
   ]
  },
  {
   "cell_type": "code",
   "execution_count": 6,
   "metadata": {},
   "outputs": [],
   "source": [
    "def encode(message,e=e,n=n):\n",
    "    encoded = []\n",
    "    for i in message:\n",
    "        m = ord(i)\n",
    "        encoded.append((m**e)%n)\n",
    "    return \"-\".join(str(i) for i in encoded)\n",
    "\n",
    "def decode(message,d=d,n=n):\n",
    "    decoded = []\n",
    "    secret_message = message.split(\"-\")\n",
    "    secret_message = [int(i) for i in secret_message]\n",
    "    for i in secret_message:\n",
    "        decoded.append((i**d)%n)\n",
    "    return \"\".join(chr(i) for i in decoded)"
   ]
  },
  {
   "cell_type": "markdown",
   "metadata": {},
   "source": [
    "# Introducing the initial value for encrypting and decrypting"
   ]
  },
  {
   "cell_type": "code",
   "execution_count": 5,
   "metadata": {},
   "outputs": [],
   "source": [
    "# Defining our p and q\n",
    "p = nth_prime_number(100)\n",
    "q = nth_prime_number(110)\n",
    "\n",
    "# Multiplying p and q\n",
    "n = p*q\n",
    "\n",
    "# We need to count how many numbers between 1-n have not coprime with n itself.\n",
    "phi = (p-1)*(q-1) # Euler's totient function which does the job!\n",
    "\n",
    "# finally, we need to make encrypting and decrypting keys, namely:\n",
    "e = E(phi,n) # any odd number which is coprime with n and phi\n",
    "d = modinv(e,phi) # Wll, this needs more explanation:"
   ]
  },
  {
   "cell_type": "markdown",
   "metadata": {},
   "source": [
    "### Can't a hacker find \"d\" ?"
   ]
  },
  {
   "cell_type": "markdown",
   "metadata": {},
   "source": [
    "\"d\" is a number which satisfies: (e*d) % phi = 1, Wchih means, \n",
    "d should be such that the remainder of (e*d) divided by phi, \n",
    "should be equal to one.  This is the key that you hide! \n",
    "Not so easy for hackers to guess, right?\n",
    "Imagine the Hacker has n and e and the encrypted message: \n",
    "n = 3127 \n",
    "e = 3\n",
    "encrypted message = \"2576\"\n",
    "Now for the the hacker to decrypt it, he should find the naswer to this question:\n",
    "for what value of d , (e*d) divided by phi has the remainder of one?\n",
    "Well...it would be easy if he had phi...but he doesn't! For that, he needs\n",
    "to know what two prime numbers made up our \"n\". \n",
    "And that...for large numbers, takes bilions of years."
   ]
  },
  {
   "cell_type": "markdown",
   "metadata": {},
   "source": [
    "# Example"
   ]
  },
  {
   "cell_type": "markdown",
   "metadata": {},
   "source": [
    "## The message"
   ]
  },
  {
   "cell_type": "code",
   "execution_count": 10,
   "metadata": {},
   "outputs": [],
   "source": [
    "message = \"SecreT Me33age 1984 😍\""
   ]
  },
  {
   "cell_type": "markdown",
   "metadata": {},
   "source": [
    "## Encrypting the message"
   ]
  },
  {
   "cell_type": "code",
   "execution_count": 11,
   "metadata": {
    "scrolled": true
   },
   "outputs": [
    {
     "name": "stdout",
     "output_type": "stream",
     "text": [
      "Encrypted Message:  323815-52079-105070-12511-52079-276530-138052-171216-52079-58545-58545-104659-251926-52079-138052-81014-236333-156083-246103-138052-67090\n"
     ]
    }
   ],
   "source": [
    "Coded_message = encode(message,e=e,n=n)\n",
    "print(\"Encrypted Message: \" ,Coded_message)"
   ]
  },
  {
   "cell_type": "markdown",
   "metadata": {},
   "source": [
    "## Decrypting the message"
   ]
  },
  {
   "cell_type": "code",
   "execution_count": 12,
   "metadata": {},
   "outputs": [
    {
     "name": "stdout",
     "output_type": "stream",
     "text": [
      "Decrypted message:  SecreT Me33age 1984 😍\n"
     ]
    }
   ],
   "source": [
    "Decoded_message = decode(Coded_message,d=d,n=n)\n",
    "print(\"Decrypted message: \", Decoded_message)"
   ]
  }
 ],
 "metadata": {
  "kernelspec": {
   "display_name": "Python 3",
   "language": "python",
   "name": "python3"
  }
 },
 "nbformat": 4,
 "nbformat_minor": 2
}
